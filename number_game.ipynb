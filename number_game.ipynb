{
 "cells": [
  {
   "cell_type": "markdown",
   "metadata": {},
   "source": [
    "## Python - a super powerful high-level programming language. "
   ]
  },
  {
   "cell_type": "markdown",
   "metadata": {},
   "source": [
    "### Web developers, game developers and data scientists everywhere use python."
   ]
  },
  {
   "cell_type": "markdown",
   "metadata": {},
   "source": [
    "### 3 Basic features nearly every high-level programming language has: Variables, loops and Conditionals"
   ]
  },
  {
   "cell_type": "code",
   "execution_count": 25,
   "metadata": {
    "collapsed": false
   },
   "outputs": [
    {
     "name": "stdout",
     "output_type": "stream",
     "text": [
      "Hello McKinley! Welcome to the number guessing game!\n",
      "I am thinking of a number between 1 and 20 and you only have 3 tries to get it right\n",
      "What is your guess?\n",
      "8\n",
      "You're guess is too high\n",
      "What is your guess?\n",
      "9\n",
      "You're guess is too high\n",
      "What is your guess?\n",
      "1\n",
      "You're guess is too low\n",
      "Sorry! My number was 3!\n"
     ]
    }
   ],
   "source": [
    "import random\n",
    "\n",
    "print('Hello McKinley! Welcome to the number guessing game!')\n",
    "print('I am thinking of a number between 1 and 20 and you only have 3 tries to get it right')\n",
    "\n",
    "\n",
    "number = random.randint(1, 20)\n",
    "guessesTaken= 0\n",
    "\n",
    "while guessesTaken < 3:\n",
    "    print('What is your guess?')\n",
    "    guess = input()\n",
    "    guess = int(guess)\n",
    "    guessesTaken = guessesTaken + 1\n",
    "    if guess > number:\n",
    "        print(\"You're guess is too high\")\n",
    "    if guess < number:\n",
    "        print(\"You're guess is too low\")\n",
    "    if guess == number:\n",
    "        break\n",
    "if guess == number:\n",
    "    guessesTaken = str(guessesTaken)\n",
    "    print(\"Good job! You've guessed my number in \" + guessesTaken + \"guesses!\")\n",
    "if guess != number:\n",
    "    number = str(number)\n",
    "    print(\"Sorry! My number was \" + number + \"!\")\n"
   ]
  },
  {
   "cell_type": "code",
   "execution_count": null,
   "metadata": {
    "collapsed": true
   },
   "outputs": [],
   "source": []
  }
 ],
 "metadata": {
  "kernelspec": {
   "display_name": "Python 3",
   "language": "python",
   "name": "python3"
  },
  "language_info": {
   "codemirror_mode": {
    "name": "ipython",
    "version": 3
   },
   "file_extension": ".py",
   "mimetype": "text/x-python",
   "name": "python",
   "nbconvert_exporter": "python",
   "pygments_lexer": "ipython3",
   "version": "3.5.1"
  }
 },
 "nbformat": 4,
 "nbformat_minor": 0
}
